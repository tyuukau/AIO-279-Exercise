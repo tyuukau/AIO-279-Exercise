{
  "cells": [
    {
      "cell_type": "code",
      "execution_count": 1,
      "metadata": {
        "id": "JbVta7NX18S1"
      },
      "outputs": [],
      "source": [
        "import numpy as np\n",
        "import pandas as pd\n",
        "import matplotlib.image as mpimg"
      ]
    },
    {
      "cell_type": "markdown",
      "metadata": {
        "id": "0LB5Kjm16Kmh"
      },
      "source": [
        "# Xử lý ảnh"
      ]
    },
    {
      "cell_type": "code",
      "execution_count": 5,
      "metadata": {
        "colab": {
          "base_uri": "https://localhost:8080/"
        },
        "id": "puLV0QrA1-XJ",
        "outputId": "53333996-e108-4000-f66a-85f1f8389f15"
      },
      "outputs": [
        {
          "name": "stdout",
          "output_type": "stream",
          "text": [
            "Downloading...\n",
            "From: https://drive.google.com/uc?id=1i9dqan21DjQoG5Q_VEvm0LrVwAlXD0vB\n",
            "To: /content/dog.jpeg\n",
            "\r  0% 0.00/33.7k [00:00<?, ?B/s]\r100% 33.7k/33.7k [00:00<00:00, 51.0MB/s]\n"
          ]
        }
      ],
      "source": [
        "# Download image\n",
        "!gdown 1i9dqan21DjQoG5Q_VEvm0LrVwAlXD0vB\n",
        "\n",
        "# Đọc ảnh\n",
        "img = mpimg.imread('/content/dog.jpeg')"
      ]
    },
    {
      "cell_type": "code",
      "execution_count": 6,
      "metadata": {
        "colab": {
          "base_uri": "https://localhost:8080/"
        },
        "id": "nEJ_NUOT3ch5",
        "outputId": "1a7700b6-f86b-4a21-f715-1188f11ef2f4"
      },
      "outputs": [
        {
          "name": "stdout",
          "output_type": "stream",
          "text": [
            "102.5\n"
          ]
        }
      ],
      "source": [
        "# Chuyển ảnh sang ảnh xám theo phương pháp Lightness\n",
        "gray_img_01 = (np.max(img, axis=2) + np.min(img, axis=2)) / 2\n",
        "\n",
        "# In giá trị tại vị trí (0, 0)\n",
        "print(gray_img_01[0, 0])\n"
      ]
    },
    {
      "cell_type": "code",
      "execution_count": 9,
      "metadata": {
        "colab": {
          "base_uri": "https://localhost:8080/"
        },
        "id": "-FFLqr2N2Buo",
        "outputId": "177924b0-fa03-45d3-a0c9-cb8754f745cd"
      },
      "outputs": [
        {
          "name": "stdout",
          "output_type": "stream",
          "text": [
            "107.66666666666667\n"
          ]
        }
      ],
      "source": [
        "# Chuyển ảnh sang ảnh xám theo phương pháp Average\n",
        "gray_img_02 = np.mean(img, axis=2)\n",
        "\n",
        "# In giá trị tại vị trí (0, 0)\n",
        "print(gray_img_02[0, 0])"
      ]
    },
    {
      "cell_type": "code",
      "execution_count": 8,
      "metadata": {
        "colab": {
          "base_uri": "https://localhost:8080/"
        },
        "id": "_sNqsTl82Ci7",
        "outputId": "056a02f2-730d-4e22-ec39-feb1ce6b139f"
      },
      "outputs": [
        {
          "name": "stdout",
          "output_type": "stream",
          "text": [
            "Gray value at (0,0): 126.22999999999999\n"
          ]
        }
      ],
      "source": [
        "# Chuyển ảnh sang ảnh xám theo phương pháp Luminosity\n",
        "gray_img_02 = 0.21 * img[:, :, 0] + 0.72 * img[:, :, 1] + 0.07 * img[:, :, 2]\n",
        "\n",
        "# In giá trị tại vị trí (0, 0)\n",
        "print(\"Gray value at (0,0):\", gray_img_02[0, 0])"
      ]
    },
    {
      "cell_type": "markdown",
      "metadata": {
        "id": "2akPYNoG6E0a"
      },
      "source": [
        "# Phân tích dữ liệu dạng bảng"
      ]
    },
    {
      "cell_type": "code",
      "execution_count": 10,
      "metadata": {
        "colab": {
          "base_uri": "https://localhost:8080/"
        },
        "id": "aioqvk_82HAA",
        "outputId": "5389bb14-5d71-41de-ce32-36ff5054078a"
      },
      "outputs": [
        {
          "name": "stdout",
          "output_type": "stream",
          "text": [
            "Downloading...\n",
            "From: https://drive.google.com/uc?id=1iA0WmVfW88HyJvTBSQDI5vesf-pgKabq\n",
            "To: /content/advertising.csv\n",
            "\r  0% 0.00/4.06k [00:00<?, ?B/s]\r100% 4.06k/4.06k [00:00<00:00, 11.4MB/s]\n"
          ]
        }
      ],
      "source": [
        "!gdown 1iA0WmVfW88HyJvTBSQDI5vesf-pgKabq\n",
        "\n",
        "df = pd.read_csv('/content/advertising.csv')"
      ]
    },
    {
      "cell_type": "code",
      "execution_count": 12,
      "metadata": {
        "colab": {
          "base_uri": "https://localhost:8080/"
        },
        "id": "p95lCXXj2Kys",
        "outputId": "30a5607c-8c36-412d-cc10-7ec0f9883cec"
      },
      "outputs": [
        {
          "data": {
            "text/plain": [
              "array([[230.1,  37.8,  69.2,  22.1],\n",
              "       [ 44.5,  39.3,  45.1,  10.4],\n",
              "       [ 17.2,  45.9,  69.3,  12. ],\n",
              "       [151.5,  41.3,  58.5,  16.5],\n",
              "       [180.8,  10.8,  58.4,  17.9],\n",
              "       [  8.7,  48.9,  75. ,   7.2],\n",
              "       [ 57.5,  32.8,  23.5,  11.8],\n",
              "       [120.2,  19.6,  11.6,  13.2],\n",
              "       [  8.6,   2.1,   1. ,   4.8],\n",
              "       [199.8,   2.6,  21.2,  15.6],\n",
              "       [ 66.1,   5.8,  24.2,  12.6],\n",
              "       [214.7,  24. ,   4. ,  17.4],\n",
              "       [ 23.8,  35.1,  65.9,   9.2],\n",
              "       [ 97.5,   7.6,   7.2,  13.7],\n",
              "       [204.1,  32.9,  46. ,  19. ],\n",
              "       [195.4,  47.7,  52.9,  22.4],\n",
              "       [ 67.8,  36.6, 114. ,  12.5],\n",
              "       [281.4,  39.6,  55.8,  24.4],\n",
              "       [ 69.2,  20.5,  18.3,  11.3],\n",
              "       [147.3,  23.9,  19.1,  14.6],\n",
              "       [218.4,  27.7,  53.4,  18. ],\n",
              "       [237.4,   5.1,  23.5,  17.5],\n",
              "       [ 13.2,  15.9,  49.6,   5.6],\n",
              "       [228.3,  16.9,  26.2,  20.5],\n",
              "       [ 62.3,  12.6,  18.3,   9.7],\n",
              "       [262.9,   3.5,  19.5,  17. ],\n",
              "       [142.9,  29.3,  12.6,  15. ],\n",
              "       [240.1,  16.7,  22.9,  20.9],\n",
              "       [248.8,  27.1,  22.9,  18.9],\n",
              "       [ 70.6,  16. ,  40.8,  10.5],\n",
              "       [292.9,  28.3,  43.2,  21.4],\n",
              "       [112.9,  17.4,  38.6,  11.9],\n",
              "       [ 97.2,   1.5,  30. ,  13.2],\n",
              "       [265.6,  20. ,   0.3,  17.4],\n",
              "       [ 95.7,   1.4,   7.4,  11.9],\n",
              "       [290.7,   4.1,   8.5,  17.8],\n",
              "       [266.9,  43.8,   5. ,  25.4],\n",
              "       [ 74.7,  49.4,  45.7,  14.7],\n",
              "       [ 43.1,  26.7,  35.1,  10.1],\n",
              "       [228. ,  37.7,  32. ,  21.5],\n",
              "       [202.5,  22.3,  31.6,  16.6],\n",
              "       [177. ,  33.4,  38.7,  17.1],\n",
              "       [293.6,  27.7,   1.8,  20.7],\n",
              "       [206.9,   8.4,  26.4,  17.9],\n",
              "       [ 25.1,  25.7,  43.3,   8.5],\n",
              "       [175.1,  22.5,  31.5,  16.1],\n",
              "       [ 89.7,   9.9,  35.7,  10.6],\n",
              "       [239.9,  41.5,  18.5,  23.2],\n",
              "       [227.2,  15.8,  49.9,  19.8],\n",
              "       [ 66.9,  11.7,  36.8,   9.7],\n",
              "       [199.8,   3.1,  34.6,  16.4],\n",
              "       [100.4,   9.6,   3.6,  10.7],\n",
              "       [216.4,  41.7,  39.6,  22.6],\n",
              "       [182.6,  46.2,  58.7,  21.2],\n",
              "       [262.7,  28.8,  15.9,  20.2],\n",
              "       [198.9,  49.4,  60. ,  23.7],\n",
              "       [  7.3,  28.1,  41.4,   5.5],\n",
              "       [136.2,  19.2,  16.6,  13.2],\n",
              "       [210.8,  49.6,  37.7,  23.8],\n",
              "       [210.7,  29.5,   9.3,  18.4],\n",
              "       [ 53.5,   2. ,  21.4,   8.1],\n",
              "       [261.3,  42.7,  54.7,  24.2],\n",
              "       [239.3,  15.5,  27.3,  20.7],\n",
              "       [102.7,  29.6,   8.4,  14. ],\n",
              "       [131.1,  42.8,  28.9,  16. ],\n",
              "       [ 69. ,   9.3,   0.9,  11.3],\n",
              "       [ 31.5,  24.6,   2.2,  11. ],\n",
              "       [139.3,  14.5,  10.2,  13.4],\n",
              "       [237.4,  27.5,  11. ,  18.9],\n",
              "       [216.8,  43.9,  27.2,  22.3],\n",
              "       [199.1,  30.6,  38.7,  18.3],\n",
              "       [109.8,  14.3,  31.7,  12.4],\n",
              "       [ 26.8,  33. ,  19.3,   8.8],\n",
              "       [129.4,   5.7,  31.3,  11. ],\n",
              "       [213.4,  24.6,  13.1,  17. ],\n",
              "       [ 16.9,  43.7,  89.4,   8.7],\n",
              "       [ 27.5,   1.6,  20.7,   6.9],\n",
              "       [120.5,  28.5,  14.2,  14.2],\n",
              "       [  5.4,  29.9,   9.4,   5.3],\n",
              "       [116. ,   7.7,  23.1,  11. ],\n",
              "       [ 76.4,  26.7,  22.3,  11.8],\n",
              "       [239.8,   4.1,  36.9,  17.3],\n",
              "       [ 75.3,  20.3,  32.5,  11.3],\n",
              "       [ 68.4,  44.5,  35.6,  13.6],\n",
              "       [213.5,  43. ,  33.8,  21.7],\n",
              "       [193.2,  18.4,  65.7,  20.2],\n",
              "       [ 76.3,  27.5,  16. ,  12. ],\n",
              "       [110.7,  40.6,  63.2,  16. ],\n",
              "       [ 88.3,  25.5,  73.4,  12.9],\n",
              "       [109.8,  47.8,  51.4,  16.7],\n",
              "       [134.3,   4.9,   9.3,  14. ],\n",
              "       [ 28.6,   1.5,  33. ,   7.3],\n",
              "       [217.7,  33.5,  59. ,  19.4],\n",
              "       [250.9,  36.5,  72.3,  22.2],\n",
              "       [107.4,  14. ,  10.9,  11.5],\n",
              "       [163.3,  31.6,  52.9,  16.9],\n",
              "       [197.6,   3.5,   5.9,  16.7],\n",
              "       [184.9,  21. ,  22. ,  20.5],\n",
              "       [289.7,  42.3,  51.2,  25.4],\n",
              "       [135.2,  41.7,  45.9,  17.2],\n",
              "       [222.4,   4.3,  49.8,  16.7],\n",
              "       [296.4,  36.3, 100.9,  23.8],\n",
              "       [280.2,  10.1,  21.4,  19.8],\n",
              "       [187.9,  17.2,  17.9,  19.7],\n",
              "       [238.2,  34.3,   5.3,  20.7],\n",
              "       [137.9,  46.4,  59. ,  15. ],\n",
              "       [ 25. ,  11. ,  29.7,   7.2],\n",
              "       [ 90.4,   0.3,  23.2,  12. ],\n",
              "       [ 13.1,   0.4,  25.6,   5.3],\n",
              "       [255.4,  26.9,   5.5,  19.8],\n",
              "       [225.8,   8.2,  56.5,  18.4],\n",
              "       [241.7,  38. ,  23.2,  21.8],\n",
              "       [175.7,  15.4,   2.4,  17.1],\n",
              "       [209.6,  20.6,  10.7,  20.9],\n",
              "       [ 78.2,  46.8,  34.5,  14.6],\n",
              "       [ 75.1,  35. ,  52.7,  12.6],\n",
              "       [139.2,  14.3,  25.6,  12.2],\n",
              "       [ 76.4,   0.8,  14.8,   9.4],\n",
              "       [125.7,  36.9,  79.2,  15.9],\n",
              "       [ 19.4,  16. ,  22.3,   6.6],\n",
              "       [141.3,  26.8,  46.2,  15.5],\n",
              "       [ 18.8,  21.7,  50.4,   7. ],\n",
              "       [224. ,   2.4,  15.6,  16.6],\n",
              "       [123.1,  34.6,  12.4,  15.2],\n",
              "       [229.5,  32.3,  74.2,  19.7],\n",
              "       [ 87.2,  11.8,  25.9,  10.6],\n",
              "       [  7.8,  38.9,  50.6,   6.6],\n",
              "       [ 80.2,   0. ,   9.2,  11.9],\n",
              "       [220.3,  49. ,   3.2,  24.7],\n",
              "       [ 59.6,  12. ,  43.1,   9.7],\n",
              "       [  0.7,  39.6,   8.7,   1.6],\n",
              "       [265.2,   2.9,  43. ,  17.7],\n",
              "       [  8.4,  27.2,   2.1,   5.7],\n",
              "       [219.8,  33.5,  45.1,  19.6],\n",
              "       [ 36.9,  38.6,  65.6,  10.8],\n",
              "       [ 48.3,  47. ,   8.5,  11.6],\n",
              "       [ 25.6,  39. ,   9.3,   9.5],\n",
              "       [273.7,  28.9,  59.7,  20.8],\n",
              "       [ 43. ,  25.9,  20.5,   9.6],\n",
              "       [184.9,  43.9,   1.7,  20.7],\n",
              "       [ 73.4,  17. ,  12.9,  10.9],\n",
              "       [193.7,  35.4,  75.6,  19.2],\n",
              "       [220.5,  33.2,  37.9,  20.1],\n",
              "       [104.6,   5.7,  34.4,  10.4],\n",
              "       [ 96.2,  14.8,  38.9,  12.3],\n",
              "       [140.3,   1.9,   9. ,  10.3],\n",
              "       [240.1,   7.3,   8.7,  18.2],\n",
              "       [243.2,  49. ,  44.3,  25.4],\n",
              "       [ 38. ,  40.3,  11.9,  10.9],\n",
              "       [ 44.7,  25.8,  20.6,  10.1],\n",
              "       [280.7,  13.9,  37. ,  16.1],\n",
              "       [121. ,   8.4,  48.7,  11.6],\n",
              "       [197.6,  23.3,  14.2,  16.6],\n",
              "       [171.3,  39.7,  37.7,  16. ],\n",
              "       [187.8,  21.1,   9.5,  20.6],\n",
              "       [  4.1,  11.6,   5.7,   3.2],\n",
              "       [ 93.9,  43.5,  50.5,  15.3],\n",
              "       [149.8,   1.3,  24.3,  10.1],\n",
              "       [ 11.7,  36.9,  45.2,   7.3],\n",
              "       [131.7,  18.4,  34.6,  12.9],\n",
              "       [172.5,  18.1,  30.7,  16.4],\n",
              "       [ 85.7,  35.8,  49.3,  13.3],\n",
              "       [188.4,  18.1,  25.6,  19.9],\n",
              "       [163.5,  36.8,   7.4,  18. ],\n",
              "       [117.2,  14.7,   5.4,  11.9],\n",
              "       [234.5,   3.4,  84.8,  16.9],\n",
              "       [ 17.9,  37.6,  21.6,   8. ],\n",
              "       [206.8,   5.2,  19.4,  17.2],\n",
              "       [215.4,  23.6,  57.6,  17.1],\n",
              "       [284.3,  10.6,   6.4,  20. ],\n",
              "       [ 50. ,  11.6,  18.4,   8.4],\n",
              "       [164.5,  20.9,  47.4,  17.5],\n",
              "       [ 19.6,  20.1,  17. ,   7.6],\n",
              "       [168.4,   7.1,  12.8,  16.7],\n",
              "       [222.4,   3.4,  13.1,  16.5],\n",
              "       [276.9,  48.9,  41.8,  27. ],\n",
              "       [248.4,  30.2,  20.3,  20.2],\n",
              "       [170.2,   7.8,  35.2,  16.7],\n",
              "       [276.7,   2.3,  23.7,  16.8],\n",
              "       [165.6,  10. ,  17.6,  17.6],\n",
              "       [156.6,   2.6,   8.3,  15.5],\n",
              "       [218.5,   5.4,  27.4,  17.2],\n",
              "       [ 56.2,   5.7,  29.7,   8.7],\n",
              "       [287.6,  43. ,  71.8,  26.2],\n",
              "       [253.8,  21.3,  30. ,  17.6],\n",
              "       [205. ,  45.1,  19.6,  22.6],\n",
              "       [139.5,   2.1,  26.6,  10.3],\n",
              "       [191.1,  28.7,  18.2,  17.3],\n",
              "       [286. ,  13.9,   3.7,  20.9],\n",
              "       [ 18.7,  12.1,  23.4,   6.7],\n",
              "       [ 39.5,  41.1,   5.8,  10.8],\n",
              "       [ 75.5,  10.8,   6. ,  11.9],\n",
              "       [ 17.2,   4.1,  31.6,   5.9],\n",
              "       [166.8,  42. ,   3.6,  19.6],\n",
              "       [149.7,  35.6,   6. ,  17.3],\n",
              "       [ 38.2,   3.7,  13.8,   7.6],\n",
              "       [ 94.2,   4.9,   8.1,  14. ],\n",
              "       [177. ,   9.3,   6.4,  14.8],\n",
              "       [283.6,  42. ,  66.2,  25.5],\n",
              "       [232.1,   8.6,   8.7,  18.4]])"
            ]
          },
          "execution_count": 12,
          "metadata": {},
          "output_type": "execute_result"
        }
      ],
      "source": [
        "data = df.to_numpy()\n",
        "data"
      ]
    },
    {
      "cell_type": "code",
      "execution_count": 13,
      "metadata": {
        "colab": {
          "base_uri": "https://localhost:8080/"
        },
        "id": "3K5FlwTj4oyo",
        "outputId": "a6978c49-0a09-448e-87c6-f289e792c1c6"
      },
      "outputs": [
        {
          "name": "stdout",
          "output_type": "stream",
          "text": [
            "Max: 27.0 - Index: 175\n"
          ]
        }
      ],
      "source": [
        "# Cột Sales nằm ở vị trí thứ mấy trong data\n",
        "sales_column_index = df.columns.get_loc('Sales')\n",
        "\n",
        "# Lấy cột Sales từ NumPy array\n",
        "sales = data[:, sales_column_index]\n",
        "\n",
        "# Tìm giá trị lớn nhất và chỉ mục tương ứng\n",
        "max_value = np.max(sales)\n",
        "max_index = np.argmax(sales)\n",
        "\n",
        "print(f\"Max: {max_value} - Index: {max_index}\")\n"
      ]
    },
    {
      "cell_type": "code",
      "execution_count": 14,
      "metadata": {
        "colab": {
          "base_uri": "https://localhost:8080/"
        },
        "id": "FZmIrT6O4ymL",
        "outputId": "23571ca4-2c22-40f0-9e90-5a302bae406c"
      },
      "outputs": [
        {
          "name": "stdout",
          "output_type": "stream",
          "text": [
            "Giá trị trung bình của cột TV: 147.0425\n"
          ]
        }
      ],
      "source": [
        "# Cột TV nằm ở vị trí thứ mấy trong data\n",
        "tv_column_index = df.columns.get_loc('TV')\n",
        "\n",
        "# Lấy cột TV từ NumPy array\n",
        "tv = data[:, tv_column_index]\n",
        "\n",
        "# Tính giá trị trung bình của cột TV\n",
        "mean_tv = np.mean(tv)\n",
        "\n",
        "print(f\"Giá trị trung bình của cột TV: {mean_tv}\")\n"
      ]
    },
    {
      "cell_type": "code",
      "execution_count": 15,
      "metadata": {
        "colab": {
          "base_uri": "https://localhost:8080/"
        },
        "id": "EeZ3lX8j484P",
        "outputId": "596eaa1b-b80b-4df0-907e-a18764411ef3"
      },
      "outputs": [
        {
          "name": "stdout",
          "output_type": "stream",
          "text": [
            "Số lượng bản ghi có giá trị tại cột Sales lớn hơn hoặc bằng 20: 40\n"
          ]
        }
      ],
      "source": [
        "# Cột Sales nằm ở vị trí thứ mấy trong data\n",
        "sales_column_index = df.columns.get_loc('Sales')\n",
        "\n",
        "# Lấy cột Sales từ NumPy array\n",
        "sales = data[:, sales_column_index]\n",
        "\n",
        "# Đếm số lượng bản ghi có giá trị tại cột Sales lớn hơn hoặc bằng 20\n",
        "count_sales_ge_20 = np.sum(sales >= 20)\n",
        "\n",
        "print(f\"Số lượng bản ghi có giá trị tại cột Sales lớn hơn hoặc bằng 20: {count_sales_ge_20}\")\n"
      ]
    },
    {
      "cell_type": "code",
      "execution_count": 16,
      "metadata": {
        "colab": {
          "base_uri": "https://localhost:8080/"
        },
        "id": "6L2uRUR45Ewr",
        "outputId": "e6270593-9c9f-48e8-88fb-cbe55967e163"
      },
      "outputs": [
        {
          "name": "stdout",
          "output_type": "stream",
          "text": [
            "Giá trị trung bình của cột Radio thỏa mãn điều kiện Sales >= 15: 26.22293577981651\n"
          ]
        }
      ],
      "source": [
        "# Xác định vị trí các cột Sales và Radio trong data\n",
        "sales_column_index = df.columns.get_loc('Sales')\n",
        "radio_column_index = df.columns.get_loc('Radio')\n",
        "\n",
        "# Lấy cột Sales và Radio từ NumPy array\n",
        "sales = data[:, sales_column_index]\n",
        "radio = data[:, radio_column_index]\n",
        "\n",
        "# Lọc các giá trị của cột Radio với điều kiện tương ứng trên cột Sales >= 15\n",
        "filtered_radio = radio[sales >= 15]\n",
        "\n",
        "# Tính giá trị trung bình của cột Radio sau khi lọc\n",
        "mean_radio = np.mean(filtered_radio)\n",
        "\n",
        "print(f\"Giá trị trung bình của cột Radio thỏa mãn điều kiện Sales >= 15: {mean_radio}\")\n"
      ]
    },
    {
      "cell_type": "code",
      "execution_count": 18,
      "metadata": {
        "colab": {
          "base_uri": "https://localhost:8080/"
        },
        "id": "KEBMwIlx5NYv",
        "outputId": "3c7f8c73-f889-4467-a4b0-67b33c61734f"
      },
      "outputs": [
        {
          "name": "stdout",
          "output_type": "stream",
          "text": [
            "Tổng các giá trị của cột Sales với điều kiện Newspaper > giá trị trung bình của Newspaper: 1405.1\n"
          ]
        }
      ],
      "source": [
        "# Xác định vị trí các cột Sales và Newspaper trong data\n",
        "sales_column_index = df.columns.get_loc('Sales')\n",
        "newspaper_column_index = df.columns.get_loc('Newspaper')\n",
        "\n",
        "# Lấy cột Sales và Newspaper từ NumPy array\n",
        "sales = data[:, sales_column_index]\n",
        "newspaper = data[:, newspaper_column_index]\n",
        "\n",
        "# Tính giá trị trung bình của cột Newspaper\n",
        "mean_newspaper = np.mean(newspaper)\n",
        "\n",
        "# Lọc các giá trị của cột Sales với điều kiện Newspaper > giá trị trung bình của Newspaper\n",
        "filtered_sales = sales[newspaper > mean_newspaper]\n",
        "\n",
        "# Tính tổng các giá trị của cột Sales sau khi lọc\n",
        "total_sales = np.sum(filtered_sales)\n",
        "\n",
        "print(f\"Tổng các giá trị của cột Sales với điều kiện Newspaper > giá trị trung bình của Newspaper: {total_sales}\")\n",
        "\n",
        "\n"
      ]
    },
    {
      "cell_type": "code",
      "execution_count": 19,
      "metadata": {
        "colab": {
          "base_uri": "https://localhost:8080/"
        },
        "id": "UpyeLJTF5ahZ",
        "outputId": "6c1f9ab5-13c3-46a7-8a0c-60f977970099"
      },
      "outputs": [
        {
          "name": "stdout",
          "output_type": "stream",
          "text": [
            "scores[7:10]: ['Bad' 'Bad' 'Good']\n"
          ]
        }
      ],
      "source": [
        "# Xác định vị trí của cột Sales trong data\n",
        "sales_column_index = df.columns.get_loc('Sales')\n",
        "\n",
        "# Lấy cột Sales từ NumPy array\n",
        "sales = data[:, sales_column_index]\n",
        "\n",
        "# Tính giá trị trung bình của cột Sales\n",
        "A = np.mean(sales)\n",
        "\n",
        "# Tạo mảng mới scores\n",
        "scores = np.where(sales > A, 'Good', np.where(sales < A, 'Bad', 'Average'))\n",
        "\n",
        "# In ra kết quả scores[7:10]\n",
        "print(f\"scores[7:10]: {scores[7:10]}\")\n"
      ]
    },
    {
      "cell_type": "code",
      "execution_count": 20,
      "metadata": {
        "colab": {
          "base_uri": "https://localhost:8080/"
        },
        "id": "qZAK-Jy85lNf",
        "outputId": "7295c744-641c-493d-8ee4-f62a03179e6c"
      },
      "outputs": [
        {
          "name": "stdout",
          "output_type": "stream",
          "text": [
            "scores[7:10]: ['Bad' 'Bad' 'Good']\n"
          ]
        }
      ],
      "source": [
        "# Xác định vị trí của cột Sales trong data\n",
        "sales_column_index = df.columns.get_loc('Sales')\n",
        "\n",
        "# Lấy cột Sales từ NumPy array\n",
        "sales = data[:, sales_column_index]\n",
        "\n",
        "# Tính giá trị trung bình của cột Sales\n",
        "mean_sales = np.mean(sales)\n",
        "\n",
        "# Tìm giá trị gần nhất với giá trị trung bình trong cột Sales\n",
        "A = sales[np.abs(sales - mean_sales).argmin()]\n",
        "\n",
        "# Tạo mảng mới scores\n",
        "scores = np.where(sales > A, 'Good', np.where(sales < A, 'Bad', 'Average'))\n",
        "\n",
        "# In ra kết quả scores[7:10]\n",
        "print(f\"scores[7:10]: {scores[7:10]}\")\n"
      ]
    }
  ],
  "metadata": {
    "colab": {
      "provenance": []
    },
    "kernelspec": {
      "display_name": "Python 3",
      "name": "python3"
    },
    "language_info": {
      "name": "python"
    }
  },
  "nbformat": 4,
  "nbformat_minor": 0
}
